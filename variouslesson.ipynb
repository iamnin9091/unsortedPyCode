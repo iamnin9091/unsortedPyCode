{
  "nbformat": 4,
  "nbformat_minor": 0,
  "metadata": {
    "colab": {
      "provenance": []
    },
    "kernelspec": {
      "name": "python3",
      "display_name": "Python 3"
    },
    "language_info": {
      "name": "python"
    }
  },
  "cells": [
    {
      "cell_type": "code",
      "execution_count": null,
      "metadata": {
        "colab": {
          "base_uri": "https://localhost:8080/"
        },
        "id": "7NdcTgnsJzWk",
        "outputId": "74cf7582-2aae-431e-a0e9-0bcf6b721ece"
      },
      "outputs": [
        {
          "output_type": "stream",
          "name": "stdout",
          "text": [
            "Enter UR thoughtggi\n",
            "This maybe string. so, ternary not possible\n"
          ]
        }
      ],
      "source": [
        "#ternary operator\n",
        "mean=input('Enter UR thought')\n",
        "\n",
        "try:\n",
        "    mean=int(mean)\n",
        "    if isinstance(mean,int):\n",
        "        print('Right on!') if mean > 10 else print('Not taday')\n",
        "except:\n",
        "    print('This maybe string. so, ternary not possible')"
      ]
    },
    {
      "cell_type": "code",
      "source": [
        "#grsding system prblem\n",
        "A=float(input())\n",
        "B=float(input())\n",
        "MEDIA=(A*3.5+B*7.5)/(3.5+7.5)\n",
        "print('MEDIA =',f'{MEDIA:.5f}')"
      ],
      "metadata": {
        "id": "R_FPu9Z_MV9H"
      },
      "execution_count": null,
      "outputs": []
    },
    {
      "cell_type": "code",
      "source": [
        "#difference problem\n",
        "A=int(input())\n",
        "B=int(input())\n",
        "C=int(input())\n",
        "D=int(input())\n",
        "DIF=(A*B)-(C*D)\n",
        "print('DIFERENCA =',DIF)"
      ],
      "metadata": {
        "id": "3HG5B-FyM4Ph"
      },
      "execution_count": null,
      "outputs": []
    },
    {
      "cell_type": "code",
      "source": [
        "#imaginary number check and math import\n",
        "import math\n",
        "cmx=2.3+8j\n",
        "gap=64.12\n",
        "type(cmx)\n",
        "cmx.real\n",
        "cmx.imag\n",
        "print(math.sqrt(gap))\n",
        "math.ceil(gap)"
      ],
      "metadata": {
        "id": "IuXmBKxVM9Y1"
      },
      "execution_count": null,
      "outputs": []
    },
    {
      "cell_type": "code",
      "source": [
        "#salaries calculation\n",
        "id=input()\n",
        "hour=float(input())\n",
        "perHour=float(input())\n",
        "salary=hour*perHour\n",
        "print('NUMBER =',id)\n",
        "print('SALARY = U$',f'{salary:.2f}')"
      ],
      "metadata": {
        "id": "pel01zeINBka"
      },
      "execution_count": null,
      "outputs": []
    },
    {
      "cell_type": "code",
      "source": [
        "#rock and paper game\n",
        "import sys\n",
        "import random\n",
        "print('')\n",
        "playChoice = input('Enter ...\\n1 --- rock ,\\n2 ---paper, or \\n3 ---scissors:\\n\\n')\n",
        "\n",
        "player = int(input(playChoice))\n",
        "\n",
        "if player < 1 | player > 3:\n",
        "    sys.exit('please select with in 1-3')\n",
        "computer_choice = random.choice('123')\n",
        "computer = int(computer_choice)\n",
        "\n",
        "print('You chose'+playChoice+'.')\n",
        "print('Computer chose'+computer_choice+'.')\n",
        "if player == 1 and computer == 3:\n",
        "    print('You win')\n",
        "elif player == 3 and computer == 2:\n",
        "    print('You win')\n",
        "elif player == 2 and computer == 1:\n",
        "    print('You win')\n",
        "elif player == computer:\n",
        "    print('tie')\n",
        "else:\n",
        "    print('You lose')"
      ],
      "metadata": {
        "id": "5aUCcoItNJT-"
      },
      "execution_count": null,
      "outputs": []
    },
    {
      "cell_type": "code",
      "source": [
        "#beeBonusSalary\n",
        "name=input()\n",
        "fixsal=float(input())\n",
        "sell=float(input())\n",
        "total=fixsal+(sell*15/100)\n",
        "print('TOTAL = R$',f'{total:.2f}')"
      ],
      "metadata": {
        "id": "3oCjGb2WNMfO"
      },
      "execution_count": null,
      "outputs": []
    },
    {
      "cell_type": "code",
      "source": [
        "#bee1010\n",
        "a, b, c = map(float,input().split())\n",
        "x, y, z = map(float,input().split())\n",
        "total=b*c+y*z\n",
        "print('VALOR A PAGAR: R$',f'{total:.2f}')"
      ],
      "metadata": {
        "id": "oUWZqtaYNPNx"
      },
      "execution_count": null,
      "outputs": []
    },
    {
      "cell_type": "code",
      "source": [
        "#bee1011\n",
        "r=float(input())\n",
        "pi=3.14159\n",
        "vol=4/3*pi*(r)**3\n",
        "print('VOLUME =',f'{vol:.3f}')"
      ],
      "metadata": {
        "id": "-OVqFa7fNRPH"
      },
      "execution_count": null,
      "outputs": []
    },
    {
      "cell_type": "code",
      "source": [
        "#shape calculation\n",
        "a,b,c=map(float,input().split())\n",
        "pi=3.14159\n",
        "triangle=1/2*a*c\n",
        "circle=pi*(c**2)\n",
        "trapezium=(a+b)/2*c\n",
        "square=b**2\n",
        "reactangle=a*b\n",
        "print('TRIANGULO:',f'{triangle:.3f}')\n",
        "print('CIRCULO:',f'{circle:.3f}')\n",
        "print('TRAPEZIO:',f'{trapezium:.3f}')\n",
        "print('QUADRADO:',f'{square:.3f}')\n",
        "print('RETANGULO:',f'{reactangle:.3f}')"
      ],
      "metadata": {
        "id": "yTvpqIGgNUgb"
      },
      "execution_count": null,
      "outputs": []
    },
    {
      "cell_type": "code",
      "source": [
        "#bee1014\n",
        "x=int(input())\n",
        "y=float(input())\n",
        "con=str(f'{x/y:.3f}')+' km/l'\n",
        "print(con)"
      ],
      "metadata": {
        "id": "NGhGhVLMNXcI"
      },
      "execution_count": null,
      "outputs": []
    },
    {
      "cell_type": "code",
      "source": [
        "#map style\n",
        "k=map(list,input().split())\n",
        "print(k)"
      ],
      "metadata": {
        "id": "yXgjD-qZNaMs"
      },
      "execution_count": null,
      "outputs": []
    },
    {
      "cell_type": "code",
      "source": [
        "#size of byte\n",
        "import sys\n",
        "r=float(input())\n",
        "pi=3.14159\n",
        "area=pi*r*r\n",
        "print('A='+str(round(area,4)))\n",
        "sys.getsizeof(area)"
      ],
      "metadata": {
        "id": "Zl7gKOjxNeZZ"
      },
      "execution_count": null,
      "outputs": []
    },
    {
      "cell_type": "code",
      "source": [
        "#directory\n",
        "number = 2.553\n",
        "print(f\"{number:.4f}\")\n",
        "dir(number)"
      ],
      "metadata": {
        "id": "rw6HNbT1NidW"
      },
      "execution_count": null,
      "outputs": []
    },
    {
      "cell_type": "code",
      "source": [
        "#f string\n",
        "f = 24.3789\n",
        "\n",
        "print(float('%.2f' % (f)))\n"
      ],
      "metadata": {
        "id": "PgYKZXm7NlCx"
      },
      "execution_count": null,
      "outputs": []
    },
    {
      "cell_type": "code",
      "source": [
        "#insertion sort\n",
        "def insertion(arr):\n",
        "    for i in range(1,len(arr)):\n",
        "        j=i\n",
        "        while arr[j-1]>arr[j] and j>0:\n",
        "            arr[j-1],arr[j]=arr[j],arr[j-1]\n",
        "            j=j-1\n",
        "\n",
        "arr=[23,35,57,2,46,5,64,55]\n",
        "insertion(arr)\n",
        "print(arr)"
      ],
      "metadata": {
        "id": "96xXoBCxNrtU"
      },
      "execution_count": null,
      "outputs": []
    },
    {
      "cell_type": "code",
      "source": [
        "#food in order\n",
        "def fooddistribution(x):\n",
        "    if x == 0:\n",
        "        return 'Shoup'\n",
        "    elif x == 1:\n",
        "        return 'Nodduls'\n",
        "    elif x == 2:\n",
        "        return 'Pasta'\n",
        "    elif x == 3:\n",
        "        return 'Pizza'\n",
        "ns = []\n",
        "for i in range(4):\n",
        "    ns.append(int(input()))\n",
        "st = ns.copy()\n",
        "st.sort(reverse=True)\n",
        "for i in range(0, 4):\n",
        "    for j in range(0, 4):\n",
        "        if ns[i] == st[j]:\n",
        "            break\n",
        "    print(ns[i], fooddistribution(j))"
      ],
      "metadata": {
        "id": "Sk8gl_5vNyPV"
      },
      "execution_count": null,
      "outputs": []
    },
    {
      "cell_type": "code",
      "source": [
        "#w=input().split()\n",
        "#bee1013\n",
        "x,y,z=map(int,input().split())\n",
        "maior=(x+y+abs(x-y))/2\n",
        "ma=(maior+z+abs(maior-z))/2\n",
        "print(int(ma),'eh o maior')\n",
        "\n",
        "x,y,z"
      ],
      "metadata": {
        "id": "3rulQRXSN_yI"
      },
      "execution_count": null,
      "outputs": []
    }
  ]
}